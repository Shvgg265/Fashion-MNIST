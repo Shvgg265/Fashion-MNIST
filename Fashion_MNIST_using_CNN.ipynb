{
  "nbformat": 4,
  "nbformat_minor": 0,
  "metadata": {
    "colab": {
      "name": "Fashion MNIST using CNN.ipynb",
      "provenance": []
    },
    "kernelspec": {
      "name": "python3",
      "display_name": "Python 3"
    },
    "accelerator": "GPU"
  },
  "cells": [
    {
      "cell_type": "code",
      "metadata": {
        "id": "mxCoEKnYtUsE",
        "colab_type": "code",
        "colab": {
          "base_uri": "https://localhost:8080/",
          "height": 34
        },
        "outputId": "116afee8-4e74-4856-9874-9971eea35f90"
      },
      "source": [
        "% tensorflow_version 2.x"
      ],
      "execution_count": 1,
      "outputs": [
        {
          "output_type": "stream",
          "text": [
            "TensorFlow 2.x selected.\n"
          ],
          "name": "stdout"
        }
      ]
    },
    {
      "cell_type": "code",
      "metadata": {
        "id": "P0Un31d4uNV1",
        "colab_type": "code",
        "colab": {
          "base_uri": "https://localhost:8080/",
          "height": 34
        },
        "outputId": "6a57b557-a824-4044-f16c-2ac22c8f3097"
      },
      "source": [
        "# Importing libraries\n",
        "\n",
        "import numpy as np\n",
        "import matplotlib.pyplot as plt\n",
        "import tensorflow as tf\n",
        "\n",
        "from tensorflow.keras.layers import Input, MaxPooling2D, Conv2D, Dropout, Flatten, Dense, BatchNormalization\n",
        "from tensorflow.keras.optimizers import Adam\n",
        "from tensorflow.keras.models import Model\n",
        "\n",
        "tf.__version__"
      ],
      "execution_count": 2,
      "outputs": [
        {
          "output_type": "execute_result",
          "data": {
            "text/plain": [
              "'2.1.0'"
            ]
          },
          "metadata": {
            "tags": []
          },
          "execution_count": 2
        }
      ]
    },
    {
      "cell_type": "code",
      "metadata": {
        "id": "ddkQJ5hIu1VC",
        "colab_type": "code",
        "colab": {}
      },
      "source": [
        "fashion_mnist = tf.keras.datasets.fashion_mnist"
      ],
      "execution_count": 0,
      "outputs": []
    },
    {
      "cell_type": "code",
      "metadata": {
        "id": "gOOMCpXKu-L9",
        "colab_type": "code",
        "colab": {
          "base_uri": "https://localhost:8080/",
          "height": 151
        },
        "outputId": "6b6989d7-975e-4289-ebc3-d78517d1605f"
      },
      "source": [
        "(X_train, Y_train), (X_test, Y_test) = fashion_mnist.load_data()"
      ],
      "execution_count": 4,
      "outputs": [
        {
          "output_type": "stream",
          "text": [
            "Downloading data from https://storage.googleapis.com/tensorflow/tf-keras-datasets/train-labels-idx1-ubyte.gz\n",
            "32768/29515 [=================================] - 0s 0us/step\n",
            "Downloading data from https://storage.googleapis.com/tensorflow/tf-keras-datasets/train-images-idx3-ubyte.gz\n",
            "26427392/26421880 [==============================] - 0s 0us/step\n",
            "Downloading data from https://storage.googleapis.com/tensorflow/tf-keras-datasets/t10k-labels-idx1-ubyte.gz\n",
            "8192/5148 [===============================================] - 0s 0us/step\n",
            "Downloading data from https://storage.googleapis.com/tensorflow/tf-keras-datasets/t10k-images-idx3-ubyte.gz\n",
            "4423680/4422102 [==============================] - 0s 0us/step\n"
          ],
          "name": "stdout"
        }
      ]
    },
    {
      "cell_type": "code",
      "metadata": {
        "id": "m_wz2-H6vH33",
        "colab_type": "code",
        "colab": {
          "base_uri": "https://localhost:8080/",
          "height": 34
        },
        "outputId": "5ea85176-2cee-41b0-ca64-78b0262ecefd"
      },
      "source": [
        "X_train, X_test = X_train / 255.0, X_test / 255.0\n",
        "print(X_train.shape, Y_train.shape, X_test.shape, Y_test.shape)"
      ],
      "execution_count": 5,
      "outputs": [
        {
          "output_type": "stream",
          "text": [
            "(60000, 28, 28) (60000,) (10000, 28, 28) (10000,)\n"
          ],
          "name": "stdout"
        }
      ]
    },
    {
      "cell_type": "code",
      "metadata": {
        "id": "1PbY3s-gvSNf",
        "colab_type": "code",
        "colab": {}
      },
      "source": [
        "# Expanding the dimensions of input image\n",
        "\n",
        "X_train = np.expand_dims(X_train, -1)\n",
        "X_test = np.expand_dims(X_test, -1)"
      ],
      "execution_count": 0,
      "outputs": []
    },
    {
      "cell_type": "code",
      "metadata": {
        "id": "_be4oM8xwBBq",
        "colab_type": "code",
        "colab": {
          "base_uri": "https://localhost:8080/",
          "height": 34
        },
        "outputId": "d4944610-506a-435b-eee6-faf80692a606"
      },
      "source": [
        "print(X_train.shape, Y_train.shape, X_test.shape, Y_test.shape)"
      ],
      "execution_count": 7,
      "outputs": [
        {
          "output_type": "stream",
          "text": [
            "(60000, 28, 28, 1) (60000,) (10000, 28, 28, 1) (10000,)\n"
          ],
          "name": "stdout"
        }
      ]
    },
    {
      "cell_type": "code",
      "metadata": {
        "id": "gelFGGq-wEXU",
        "colab_type": "code",
        "colab": {
          "base_uri": "https://localhost:8080/",
          "height": 34
        },
        "outputId": "f9883db3-c01c-44d9-df57-718dde102b99"
      },
      "source": [
        "K = len(set(Y_train))\n",
        "print('Number of Classes: ', K)"
      ],
      "execution_count": 8,
      "outputs": [
        {
          "output_type": "stream",
          "text": [
            "Number of Classes:  10\n"
          ],
          "name": "stdout"
        }
      ]
    },
    {
      "cell_type": "code",
      "metadata": {
        "id": "oHE5WIvywXxd",
        "colab_type": "code",
        "colab": {}
      },
      "source": [
        "i = Input(shape = X_train[0].shape)\n",
        "\n",
        "x = Conv2D(32, (3, 3), activation = 'relu', padding = 'same')(i)\n",
        "x = BatchNormalization()(x)\n",
        "x = Conv2D(32, (3, 3), activation = 'relu', padding = 'same')(x)\n",
        "x = BatchNormalization()(x)\n",
        "x = MaxPooling2D((2, 2))(x)\n",
        "\n",
        "x = Conv2D(64, (3, 3), activation = 'relu', padding = 'same')(x)\n",
        "x = BatchNormalization()(x)\n",
        "x = Conv2D(64, (3, 3), activation = 'relu', padding = 'same')(x)\n",
        "x = BatchNormalization()(x)\n",
        "x = MaxPooling2D((2, 2))(x)\n",
        "\n",
        "x = Conv2D(128, (3, 3), activation = 'relu', padding = 'same')(x)\n",
        "x = BatchNormalization()(x)\n",
        "x = Conv2D(128, (3, 3), activation = 'relu', padding = 'same')(x)\n",
        "x = BatchNormalization()(x)\n",
        "x = MaxPooling2D((2, 2))(x)\n",
        "\n",
        "x = Flatten()(x)\n",
        "x = Dropout(0.2)(x)\n",
        "x = Dense(1024, activation = 'relu')(x)\n",
        "x = Dropout(0.2)(x)\n",
        "x = Dense(K, activation = 'softmax')(x)\n",
        "\n",
        "model = Model(i, x)"
      ],
      "execution_count": 0,
      "outputs": []
    },
    {
      "cell_type": "code",
      "metadata": {
        "id": "ZQojUGNkxn94",
        "colab_type": "code",
        "colab": {}
      },
      "source": [
        "model.compile(loss = 'sparse_categorical_crossentropy',\n",
        "              optimizer = 'adam',\n",
        "              metrics = ['accuracy'])"
      ],
      "execution_count": 0,
      "outputs": []
    },
    {
      "cell_type": "code",
      "metadata": {
        "id": "KPrdFiKqyDxJ",
        "colab_type": "code",
        "colab": {
          "base_uri": "https://localhost:8080/",
          "height": 1000
        },
        "outputId": "92a03e7b-ee47-429d-98d0-4eb98692f214"
      },
      "source": [
        "batch_size = 32\n",
        "data_generator = tf.keras.preprocessing.image.ImageDataGenerator(width_shift_range=0.1, height_shift_range=0.1, horizontal_flip=True)\n",
        "train_generator = data_generator.flow(X_train, Y_train, batch_size)\n",
        "steps_per_epoch = X_train.shape[0] // batch_size\n",
        "r = model.fit_generator(train_generator, validation_data=(X_test, Y_test), steps_per_epoch=steps_per_epoch, epochs=50)"
      ],
      "execution_count": 11,
      "outputs": [
        {
          "output_type": "stream",
          "text": [
            "WARNING:tensorflow:From <ipython-input-11-96dc954f47bc>:5: Model.fit_generator (from tensorflow.python.keras.engine.training) is deprecated and will be removed in a future version.\n",
            "Instructions for updating:\n",
            "Please use Model.fit, which supports generators.\n",
            "WARNING:tensorflow:sample_weight modes were coerced from\n",
            "  ...\n",
            "    to  \n",
            "  ['...']\n",
            "Train for 1875 steps, validate on 10000 samples\n",
            "Epoch 1/50\n",
            "1875/1875 [==============================] - 28s 15ms/step - loss: 0.5523 - accuracy: 0.8022 - val_loss: 0.3801 - val_accuracy: 0.8587\n",
            "Epoch 2/50\n",
            "1875/1875 [==============================] - 21s 11ms/step - loss: 0.3730 - accuracy: 0.8633 - val_loss: 0.3221 - val_accuracy: 0.8827\n",
            "Epoch 3/50\n",
            "1875/1875 [==============================] - 21s 11ms/step - loss: 0.3329 - accuracy: 0.8778 - val_loss: 0.3134 - val_accuracy: 0.8863\n",
            "Epoch 4/50\n",
            "1875/1875 [==============================] - 20s 11ms/step - loss: 0.2996 - accuracy: 0.8901 - val_loss: 0.2816 - val_accuracy: 0.8962\n",
            "Epoch 5/50\n",
            "1875/1875 [==============================] - 21s 11ms/step - loss: 0.2801 - accuracy: 0.8982 - val_loss: 0.2725 - val_accuracy: 0.8998\n",
            "Epoch 6/50\n",
            "1875/1875 [==============================] - 21s 11ms/step - loss: 0.2645 - accuracy: 0.9025 - val_loss: 0.2645 - val_accuracy: 0.9060\n",
            "Epoch 7/50\n",
            "1875/1875 [==============================] - 21s 11ms/step - loss: 0.2465 - accuracy: 0.9096 - val_loss: 0.2435 - val_accuracy: 0.9145\n",
            "Epoch 8/50\n",
            "1875/1875 [==============================] - 21s 11ms/step - loss: 0.2379 - accuracy: 0.9126 - val_loss: 0.2377 - val_accuracy: 0.9161\n",
            "Epoch 9/50\n",
            "1875/1875 [==============================] - 20s 11ms/step - loss: 0.2248 - accuracy: 0.9184 - val_loss: 0.2227 - val_accuracy: 0.9235\n",
            "Epoch 10/50\n",
            "1875/1875 [==============================] - 21s 11ms/step - loss: 0.2177 - accuracy: 0.9197 - val_loss: 0.2152 - val_accuracy: 0.9225\n",
            "Epoch 11/50\n",
            "1875/1875 [==============================] - 20s 11ms/step - loss: 0.2111 - accuracy: 0.9231 - val_loss: 0.2388 - val_accuracy: 0.9130\n",
            "Epoch 12/50\n",
            "1875/1875 [==============================] - 20s 11ms/step - loss: 0.2058 - accuracy: 0.9244 - val_loss: 0.2500 - val_accuracy: 0.9062\n",
            "Epoch 13/50\n",
            "1875/1875 [==============================] - 20s 11ms/step - loss: 0.2016 - accuracy: 0.9266 - val_loss: 0.2201 - val_accuracy: 0.9205\n",
            "Epoch 14/50\n",
            "1875/1875 [==============================] - 20s 11ms/step - loss: 0.1955 - accuracy: 0.9270 - val_loss: 0.2083 - val_accuracy: 0.9238\n",
            "Epoch 15/50\n",
            "1875/1875 [==============================] - 20s 11ms/step - loss: 0.1910 - accuracy: 0.9297 - val_loss: 0.2356 - val_accuracy: 0.9166\n",
            "Epoch 16/50\n",
            "1875/1875 [==============================] - 20s 11ms/step - loss: 0.1852 - accuracy: 0.9314 - val_loss: 0.2019 - val_accuracy: 0.9273\n",
            "Epoch 17/50\n",
            "1875/1875 [==============================] - 20s 11ms/step - loss: 0.1791 - accuracy: 0.9333 - val_loss: 0.1982 - val_accuracy: 0.9291\n",
            "Epoch 18/50\n",
            "1875/1875 [==============================] - 20s 11ms/step - loss: 0.1774 - accuracy: 0.9344 - val_loss: 0.2037 - val_accuracy: 0.9283\n",
            "Epoch 19/50\n",
            "1875/1875 [==============================] - 20s 11ms/step - loss: 0.1758 - accuracy: 0.9350 - val_loss: 0.2147 - val_accuracy: 0.9248\n",
            "Epoch 20/50\n",
            "1875/1875 [==============================] - 20s 11ms/step - loss: 0.1715 - accuracy: 0.9373 - val_loss: 0.2030 - val_accuracy: 0.9295\n",
            "Epoch 21/50\n",
            "1875/1875 [==============================] - 20s 11ms/step - loss: 0.1664 - accuracy: 0.9377 - val_loss: 0.2004 - val_accuracy: 0.9274\n",
            "Epoch 22/50\n",
            "1875/1875 [==============================] - 21s 11ms/step - loss: 0.1639 - accuracy: 0.9391 - val_loss: 0.1999 - val_accuracy: 0.9292\n",
            "Epoch 23/50\n",
            "1875/1875 [==============================] - 20s 11ms/step - loss: 0.1558 - accuracy: 0.9420 - val_loss: 0.2006 - val_accuracy: 0.9311\n",
            "Epoch 24/50\n",
            "1875/1875 [==============================] - 20s 11ms/step - loss: 0.1545 - accuracy: 0.9427 - val_loss: 0.2034 - val_accuracy: 0.9312\n",
            "Epoch 25/50\n",
            "1875/1875 [==============================] - 20s 11ms/step - loss: 0.1522 - accuracy: 0.9434 - val_loss: 0.1956 - val_accuracy: 0.9334\n",
            "Epoch 26/50\n",
            "1875/1875 [==============================] - 20s 11ms/step - loss: 0.1527 - accuracy: 0.9439 - val_loss: 0.1848 - val_accuracy: 0.9370\n",
            "Epoch 27/50\n",
            "1875/1875 [==============================] - 20s 11ms/step - loss: 0.1501 - accuracy: 0.9443 - val_loss: 0.2131 - val_accuracy: 0.9268\n",
            "Epoch 28/50\n",
            "1875/1875 [==============================] - 20s 11ms/step - loss: 0.1463 - accuracy: 0.9465 - val_loss: 0.2084 - val_accuracy: 0.9234\n",
            "Epoch 29/50\n",
            "1875/1875 [==============================] - 20s 11ms/step - loss: 0.1464 - accuracy: 0.9456 - val_loss: 0.1918 - val_accuracy: 0.9360\n",
            "Epoch 30/50\n",
            "1875/1875 [==============================] - 20s 11ms/step - loss: 0.1421 - accuracy: 0.9476 - val_loss: 0.2017 - val_accuracy: 0.9316\n",
            "Epoch 31/50\n",
            "1875/1875 [==============================] - 20s 11ms/step - loss: 0.1392 - accuracy: 0.9487 - val_loss: 0.1988 - val_accuracy: 0.9348\n",
            "Epoch 32/50\n",
            "1875/1875 [==============================] - 20s 11ms/step - loss: 0.1377 - accuracy: 0.9488 - val_loss: 0.1924 - val_accuracy: 0.9332\n",
            "Epoch 33/50\n",
            "1875/1875 [==============================] - 20s 11ms/step - loss: 0.1358 - accuracy: 0.9498 - val_loss: 0.1955 - val_accuracy: 0.9329\n",
            "Epoch 34/50\n",
            "1875/1875 [==============================] - 20s 11ms/step - loss: 0.1347 - accuracy: 0.9507 - val_loss: 0.1895 - val_accuracy: 0.9369\n",
            "Epoch 35/50\n",
            "1875/1875 [==============================] - 20s 11ms/step - loss: 0.1311 - accuracy: 0.9510 - val_loss: 0.1963 - val_accuracy: 0.9348\n",
            "Epoch 36/50\n",
            "1875/1875 [==============================] - 20s 11ms/step - loss: 0.1318 - accuracy: 0.9511 - val_loss: 0.2019 - val_accuracy: 0.9302\n",
            "Epoch 37/50\n",
            "1875/1875 [==============================] - 21s 11ms/step - loss: 0.1289 - accuracy: 0.9524 - val_loss: 0.1938 - val_accuracy: 0.9357\n",
            "Epoch 38/50\n",
            "1875/1875 [==============================] - 20s 11ms/step - loss: 0.1291 - accuracy: 0.9521 - val_loss: 0.2012 - val_accuracy: 0.9331\n",
            "Epoch 39/50\n",
            "1875/1875 [==============================] - 20s 11ms/step - loss: 0.1242 - accuracy: 0.9535 - val_loss: 0.1902 - val_accuracy: 0.9398\n",
            "Epoch 40/50\n",
            "1875/1875 [==============================] - 20s 11ms/step - loss: 0.1255 - accuracy: 0.9541 - val_loss: 0.1984 - val_accuracy: 0.9346\n",
            "Epoch 41/50\n",
            "1875/1875 [==============================] - 20s 11ms/step - loss: 0.1218 - accuracy: 0.9540 - val_loss: 0.1829 - val_accuracy: 0.9403\n",
            "Epoch 42/50\n",
            "1875/1875 [==============================] - 21s 11ms/step - loss: 0.1222 - accuracy: 0.9536 - val_loss: 0.2136 - val_accuracy: 0.9300\n",
            "Epoch 43/50\n",
            "1875/1875 [==============================] - 20s 11ms/step - loss: 0.1198 - accuracy: 0.9550 - val_loss: 0.1973 - val_accuracy: 0.9302\n",
            "Epoch 44/50\n",
            "1875/1875 [==============================] - 20s 11ms/step - loss: 0.1182 - accuracy: 0.9561 - val_loss: 0.1885 - val_accuracy: 0.9394\n",
            "Epoch 45/50\n",
            "1875/1875 [==============================] - 20s 11ms/step - loss: 0.1166 - accuracy: 0.9565 - val_loss: 0.1947 - val_accuracy: 0.9360\n",
            "Epoch 46/50\n",
            "1875/1875 [==============================] - 20s 11ms/step - loss: 0.1142 - accuracy: 0.9586 - val_loss: 0.2006 - val_accuracy: 0.9379\n",
            "Epoch 47/50\n",
            "1875/1875 [==============================] - 20s 11ms/step - loss: 0.1146 - accuracy: 0.9585 - val_loss: 0.2024 - val_accuracy: 0.9363\n",
            "Epoch 48/50\n",
            "1875/1875 [==============================] - 20s 11ms/step - loss: 0.1150 - accuracy: 0.9575 - val_loss: 0.1967 - val_accuracy: 0.9392\n",
            "Epoch 49/50\n",
            "1875/1875 [==============================] - 20s 11ms/step - loss: 0.1133 - accuracy: 0.9593 - val_loss: 0.1986 - val_accuracy: 0.9378\n",
            "Epoch 50/50\n",
            "1875/1875 [==============================] - 20s 11ms/step - loss: 0.1127 - accuracy: 0.9593 - val_loss: 0.2064 - val_accuracy: 0.9368\n"
          ],
          "name": "stdout"
        }
      ]
    },
    {
      "cell_type": "code",
      "metadata": {
        "colab_type": "code",
        "id": "MqjLYbszDh8s",
        "colab": {
          "base_uri": "https://localhost:8080/",
          "height": 282
        },
        "outputId": "635dda99-f818-4e85-b7ce-c05dc8024e01"
      },
      "source": [
        "# Plot loss per iteration\n",
        "\n",
        "plt.plot(r.history['loss'], label='loss')\n",
        "plt.plot(r.history['val_loss'], label='val_loss')\n",
        "plt.legend()"
      ],
      "execution_count": 12,
      "outputs": [
        {
          "output_type": "execute_result",
          "data": {
            "text/plain": [
              "<matplotlib.legend.Legend at 0x7f787a52f1d0>"
            ]
          },
          "metadata": {
            "tags": []
          },
          "execution_count": 12
        },
        {
          "output_type": "display_data",
          "data": {
            "image/png": "[encoded data removed]",
            "text/plain": [
              "<Figure size 432x288 with 1 Axes>"
            ]
          },
          "metadata": {
            "tags": []
          }
        }
      ]
    },
    {
      "cell_type": "code",
      "metadata": {
        "colab_type": "code",
        "id": "L3jGlMxBDhhW",
        "colab": {
          "base_uri": "https://localhost:8080/",
          "height": 282
        },
        "outputId": "c7a1a8d3-c1f6-4c4d-db8a-d7c486e342df"
      },
      "source": [
        "# Plot accuracy per iteration\n",
        "plt.plot(r.history['accuracy'], label='acc')\n",
        "plt.plot(r.history['val_accuracy'], label='val_acc')\n",
        "plt.legend()"
      ],
      "execution_count": 13,
      "outputs": [
        {
          "output_type": "execute_result",
          "data": {
            "text/plain": [
              "<matplotlib.legend.Legend at 0x7f78727ca400>"
            ]
          },
          "metadata": {
            "tags": []
          },
          "execution_count": 13
        },
        {
          "output_type": "display_data",
          "data": {
            "image/png": "[encoded data removed]",
            "text/plain": [
              "<Figure size 432x288 with 1 Axes>"
            ]
          },
          "metadata": {
            "tags": []
          }
        }
      ]
    },
    {
      "cell_type": "code",
      "metadata": {
        "id": "aT5VVWOmDdQO",
        "colab_type": "code",
        "colab": {}
      },
      "source": [
        ""
      ],
      "execution_count": 0,
      "outputs": []
    }
  ]
}